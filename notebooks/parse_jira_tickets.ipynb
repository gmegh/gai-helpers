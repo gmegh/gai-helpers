{
 "cells": [
  {
   "cell_type": "code",
   "execution_count": 1,
   "metadata": {},
   "outputs": [],
   "source": [
    "import requests\n",
    "from langchain.schema import Document\n",
    "import json\n",
    "from tqdm import tqdm as tqdm\n",
    "import concurrent.futures\n",
    "import time\n",
    "import weaviate\n",
    "from weaviate.classes.init import Auth\n",
    "import os\n",
    "from dotenv import load_dotenv\n",
    "from parse_jira_tickets import parse_jira_tickets, retry_fetch_ticket, write_to_file"
   ]
  },
  {
   "cell_type": "code",
   "execution_count": 3,
   "metadata": {},
   "outputs": [],
   "source": [
    "weaviate_url = os.getenv(\"WEAVIATE_URL\")\n",
    "weaviate_api_key = os.getenv(\"WEAVIATE_API_KEY\")\n",
    "\n",
    "client = weaviate.connect_to_weaviate_cloud(\n",
    "    cluster_url=weaviate_url,\n",
    "    auth_credentials=Auth.api_key(weaviate_api_key),\n",
    "    headers={\n",
    "        \"X-OpenAI-Api-Key\": os.getenv(\"OPENAI_API_KEY\")  # Or any other inference API keys\n",
    "    },\n",
    "    skip_init_checks=True\n",
    ")\n",
    "\n",
    "jiratest = client.collections.get(\"JiraTicket\")"
   ]
  },
  {
   "cell_type": "code",
   "execution_count": 16,
   "metadata": {},
   "outputs": [
    {
     "name": "stderr",
     "output_type": "stream",
     "text": [
      "100%|██████████| 7763/7763 [1:32:48<00:00,  1.39it/s]  \n"
     ]
    }
   ],
   "source": [
    "start_ticket = 1\n",
    "num_tickets = 45000\n",
    "batch_size = 10\n",
    "max_retries = 5\n",
    "\n",
    "total_num = len(failed_tickets)\n",
    "\n",
    "with concurrent.futures.ThreadPoolExecutor(max_workers=40) as executor:  # Adjust max_workers as needed\n",
    "    future_to_ticket = {executor.submit(retry_fetch_ticket, ticket, email, api_token, max_retries): ticket for ticket in failed_tickets}\n",
    "    \n",
    "    results_list = []\n",
    "    failed_tickets = []\n",
    "    for future in tqdm(concurrent.futures.as_completed(future_to_ticket), total=total_num):\n",
    "        try:\n",
    "            result = future.result()\n",
    "            write_to_file(result)  # Write the individual result to a file\n",
    "        except Exception as exc:\n",
    "            failed_tickets.append(future_to_ticket[future])"
   ]
  },
  {
   "cell_type": "code",
   "execution_count": null,
   "metadata": {},
   "outputs": [],
   "source": [
    "final_docs = []\n",
    "# Push documents to Weaviate\n",
    "for results in results_list:\n",
    "    final_docs.append(\n",
    "        Document(\n",
    "            page_content=json.dumps(results), \n",
    "            metadata={\n",
    "                \"source\": f\"https://rubinobs.atlassian.net/rest/api/latest/issue/DM-{results['TicketNumber']}\",\n",
    "                \"source_key\":\"jira\"\n",
    "            }\n",
    "        )\n",
    "    )"
   ]
  },
  {
   "cell_type": "code",
   "execution_count": 7,
   "metadata": {},
   "outputs": [
    {
     "ename": "NameError",
     "evalue": "name 'failed_tickets' is not defined",
     "output_type": "error",
     "traceback": [
      "\u001b[0;31m---------------------------------------------------------------------------\u001b[0m",
      "\u001b[0;31mNameError\u001b[0m                                 Traceback (most recent call last)",
      "Cell \u001b[0;32mIn[7], line 3\u001b[0m\n\u001b[1;32m      1\u001b[0m \u001b[38;5;66;03m# save failed_tickets\u001b[39;00m\n\u001b[1;32m      2\u001b[0m \u001b[38;5;28;01mwith\u001b[39;00m \u001b[38;5;28mopen\u001b[39m(\u001b[38;5;124m'\u001b[39m\u001b[38;5;124mfailed_tickets.txt\u001b[39m\u001b[38;5;124m'\u001b[39m, \u001b[38;5;124m'\u001b[39m\u001b[38;5;124mw\u001b[39m\u001b[38;5;124m'\u001b[39m) \u001b[38;5;28;01mas\u001b[39;00m f:\n\u001b[0;32m----> 3\u001b[0m     \u001b[38;5;28;01mfor\u001b[39;00m ticket \u001b[38;5;129;01min\u001b[39;00m \u001b[43mfailed_tickets\u001b[49m:\n\u001b[1;32m      4\u001b[0m         f\u001b[38;5;241m.\u001b[39mwrite(\u001b[38;5;124mf\u001b[39m\u001b[38;5;124m\"\u001b[39m\u001b[38;5;132;01m{\u001b[39;00mticket\u001b[38;5;132;01m}\u001b[39;00m\u001b[38;5;130;01m\\n\u001b[39;00m\u001b[38;5;124m\"\u001b[39m)\n",
      "\u001b[0;31mNameError\u001b[0m: name 'failed_tickets' is not defined"
     ]
    }
   ],
   "source": [
    "# save failed_tickets\n",
    "with open('failed_tickets.txt', 'w') as f:\n",
    "    for ticket in failed_tickets:\n",
    "        f.write(f\"{ticket}\\n\")"
   ]
  },
  {
   "cell_type": "code",
   "execution_count": 10,
   "metadata": {},
   "outputs": [
    {
     "name": "stdout",
     "output_type": "stream",
     "text": [
      "[]\n"
     ]
    }
   ],
   "source": [
    "# Load failed_tickets.txt into a list\n",
    "with open('failed_tickets.txt', 'r') as f:\n",
    "    failed_tickets = [int(line.strip()) for line in f.readlines()]\n",
    "\n",
    "# Now you have a list of failed tickets\n",
    "print(failed_tickets)"
   ]
  },
  {
   "cell_type": "code",
   "execution_count": 12,
   "metadata": {},
   "outputs": [
    {
     "name": "stdout",
     "output_type": "stream",
     "text": [
      "Number of files: 37239\n"
     ]
    }
   ],
   "source": [
    "# Define the folder path\n",
    "folder_path = 'JIRA tickets'\n",
    "\n",
    "# Check how many files are in the folder\n",
    "num_files = len([name for name in os.listdir(folder_path) if os.path.isfile(os.path.join(folder_path, name))])\n",
    "print(f\"Number of files: {num_files}\")"
   ]
  }
 ],
 "metadata": {
  "kernelspec": {
   "display_name": "verachat",
   "language": "python",
   "name": "python3"
  },
  "language_info": {
   "codemirror_mode": {
    "name": "ipython",
    "version": 3
   },
   "file_extension": ".py",
   "mimetype": "text/x-python",
   "name": "python",
   "nbconvert_exporter": "python",
   "pygments_lexer": "ipython3",
   "version": "3.11.9"
  }
 },
 "nbformat": 4,
 "nbformat_minor": 2
}
