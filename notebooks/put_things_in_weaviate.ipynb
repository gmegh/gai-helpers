{
 "cells": [
  {
   "cell_type": "code",
   "execution_count": 1,
   "metadata": {},
   "outputs": [],
   "source": [
    "import os\n",
    "import json\n",
    "from tqdm import tqdm as tqdm\n",
    "\n",
    "import weaviate\n",
    "from weaviate.classes.init import Auth\n",
    "from langchain_weaviate.vectorstores import WeaviateVectorStore\n",
    "from langchain_openai import OpenAIEmbeddings\n",
    "from langchain.docstore.document import Document"
   ]
  },
  {
   "cell_type": "code",
   "execution_count": 2,
   "metadata": {},
   "outputs": [],
   "source": [
    "weaviate_url = os.getenv(\"WEAVIATE_URL\")\n",
    "weaviate_api_key = os.getenv(\"WEAVIATE_API_KEY\")\n",
    "\n",
    "client = weaviate.connect_to_weaviate_cloud(\n",
    "    cluster_url=weaviate_url,\n",
    "    auth_credentials=Auth.api_key(weaviate_api_key),\n",
    "    headers={\n",
    "        \"X-OpenAI-Api-Key\": os.getenv(\"OPENAI_API_KEY\")  # Or any other inference API keys\n",
    "    },\n",
    "    skip_init_checks=True\n",
    ")"
   ]
  },
  {
   "cell_type": "code",
   "execution_count": 5,
   "metadata": {},
   "outputs": [
    {
     "name": "stderr",
     "output_type": "stream",
     "text": [
      "100%|██████████| 1000/1000 [00:00<00:00, 5908.80it/s]\n"
     ]
    }
   ],
   "source": [
    "folder_path = 'JIRA tickets'\n",
    "# Get a sorted list of all JSON files in the folder\n",
    "all_files = sorted([f for f in os.listdir(folder_path) if f.endswith('.json')])\n",
    "\n",
    "final_docs = []\n",
    "\n",
    "for filename in tqdm(all_files[:1000]):\n",
    "    if filename.endswith('.json'):\n",
    "        file_path = os.path.join(folder_path, filename)\n",
    "        \n",
    "        with open(file_path, 'r') as file:\n",
    "            results = json.load(file)\n",
    "            \n",
    "            ticket_number = filename.split('.')[0]\n",
    "            final_docs.append(\n",
    "                Document(\n",
    "                    page_content=json.dumps(results),\n",
    "                    metadata={\n",
    "                        \"source\": f\"https://rubinobs.atlassian.net/rest/api/latest/issue/{ticket_number}\",\n",
    "                        \"source_key\": \"jira\"\n",
    "                    }\n",
    "                )\n",
    "            )"
   ]
  },
  {
   "cell_type": "code",
   "execution_count": 6,
   "metadata": {},
   "outputs": [],
   "source": [
    "db = WeaviateVectorStore.from_documents(final_docs, OpenAIEmbeddings(), client=client)"
   ]
  }
 ],
 "metadata": {
  "kernelspec": {
   "display_name": "verachat",
   "language": "python",
   "name": "python3"
  },
  "language_info": {
   "codemirror_mode": {
    "name": "ipython",
    "version": 3
   },
   "file_extension": ".py",
   "mimetype": "text/x-python",
   "name": "python",
   "nbconvert_exporter": "python",
   "pygments_lexer": "ipython3",
   "version": "3.11.9"
  }
 },
 "nbformat": 4,
 "nbformat_minor": 2
}
